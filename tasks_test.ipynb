{
 "cells": [
  {
   "cell_type": "markdown",
   "metadata": {},
   "source": [
    "# Tasks Test "
   ]
  },
  {
   "cell_type": "code",
   "execution_count": 13,
   "metadata": {},
   "outputs": [],
   "source": [
    "import numpy as np \n",
    "import pandas as pd\n",
    "import matplotlib.pyplot as plt \n",
    "import plotly.graph_objects as go\n",
    "from plotly.subplots import make_subplots\n",
    "import plotly.express as px\n",
    "from sklearn.linear_model import LinearRegression\n",
    "import task1 as t1 \n",
    "import task2 as t2 \n",
    "import task3 as t3 "
   ]
  },
  {
   "cell_type": "markdown",
   "metadata": {},
   "source": [
    "## 0.获取数据"
   ]
  },
  {
   "cell_type": "code",
   "execution_count": 5,
   "metadata": {},
   "outputs": [],
   "source": [
    "# file path \n",
    "data_root_min = '/Users/huayuzhu/Desktop/exam/raw_data/minute'\n",
    "data_root = '/Users/huayuzhu/Desktop/exam/raw_data/daily'\n",
    "output_dir = '/Users/huayuzhu/Desktop/exam/'\n",
    "\n",
    "# get minute level data \n",
    "amount = t2.get_min_data_from_csv(f'{data_root_min}/amount.csv')\n",
    "volume = t2.get_min_data_from_csv(f'{data_root_min}/volume.csv')\n",
    "close  = t2.get_min_data_from_csv(f'{data_root_min}/close.csv')\n",
    "open  = t2.get_min_data_from_csv(f'{data_root_min}/open.csv')\n",
    "\n",
    "#get daily data \n",
    "S_DQ_RET = t1.get_data_from_csv(f'{data_root}/S_DQ_RET.csv')\n",
    "S_905_DQ_RET =  t1.get_data_from_csv(f'{data_root}/905S_DQ_RET.csv')\n",
    "S_DQ_MV = t1.get_data_from_csv(f'{data_root}/S_DQ_MV.csv')\n",
    "S_RESTRICT = t1.get_data_from_csv(f'{data_root}/S_RESTRICT.csv')\n",
    "S_DQ_OPEN = t1.get_data_from_csv(f'{data_root}/S_DQ_OPEN.csv')\n",
    "S_DQ_ADJ_FACTOR = t1.get_data_from_csv(f'{data_root}/S_DQ_ADJFACTOR.csv')\n",
    "S_DQ_CLOSE =t1.get_data_from_csv(f'{data_root}/S_DQ_CLOSE.csv')\n",
    "S_DQ_VOLUME = t1.get_data_from_csv(f'{data_root}/S_DQ_VOLUME.csv')\n",
    "F7_26 =  t1.get_data_from_csv(f'{data_root}/F7_26.csv')\n",
    "F7_27 =  t1.get_data_from_csv(f'{data_root}/F7_27.csv')\n",
    "\n",
    "# construct new df accordingly \n",
    "S_DQ_ADJ_FACTOR = S_DQ_ADJ_FACTOR/100\n",
    "S_ADJ_CLOSE = S_DQ_CLOSE * S_DQ_ADJ_FACTOR\n",
    "S_ADJ_OPEN = S_DQ_OPEN * S_DQ_ADJ_FACTOR\n"
   ]
  },
  {
   "cell_type": "markdown",
   "metadata": {},
   "source": [
    "## 1.单因子测试"
   ]
  },
  {
   "cell_type": "markdown",
   "metadata": {},
   "source": [
    "### 1.1"
   ]
  },
  {
   "cell_type": "code",
   "execution_count": 15,
   "metadata": {},
   "outputs": [
    {
     "data": {
      "text/html": [
       "<div>\n",
       "<style scoped>\n",
       "    .dataframe tbody tr th:only-of-type {\n",
       "        vertical-align: middle;\n",
       "    }\n",
       "\n",
       "    .dataframe tbody tr th {\n",
       "        vertical-align: top;\n",
       "    }\n",
       "\n",
       "    .dataframe thead th {\n",
       "        text-align: right;\n",
       "    }\n",
       "</style>\n",
       "<table border=\"1\" class=\"dataframe\">\n",
       "  <thead>\n",
       "    <tr style=\"text-align: right;\">\n",
       "      <th></th>\n",
       "      <th>Daily excess_return TOP</th>\n",
       "      <th>Cumulative excess_return TOP</th>\n",
       "      <th>Daily excess_return BOTTOM</th>\n",
       "      <th>Cumulative excess_return BOTTOM</th>\n",
       "    </tr>\n",
       "  </thead>\n",
       "  <tbody>\n",
       "    <tr>\n",
       "      <th>2022-12-30</th>\n",
       "      <td>0.000714</td>\n",
       "      <td>-0.418572</td>\n",
       "      <td>0.001278</td>\n",
       "      <td>-0.513821</td>\n",
       "    </tr>\n",
       "  </tbody>\n",
       "</table>\n",
       "</div>"
      ],
      "text/plain": [
       "            Daily excess_return TOP  Cumulative excess_return TOP  \\\n",
       "2022-12-30                 0.000714                     -0.418572   \n",
       "\n",
       "            Daily excess_return BOTTOM  Cumulative excess_return BOTTOM  \n",
       "2022-12-30                    0.001278                        -0.513821  "
      ]
     },
     "metadata": {},
     "output_type": "display_data"
    },
    {
     "ename": "TypeError",
     "evalue": "OneFactorTest.evaluation_mectrics() got multiple values for argument 'adj1'",
     "output_type": "error",
     "traceback": [
      "\u001b[0;31m---------------------------------------------------------------------------\u001b[0m",
      "\u001b[0;31mTypeError\u001b[0m                                 Traceback (most recent call last)",
      "Cell \u001b[0;32mIn[15], line 5\u001b[0m\n\u001b[1;32m      3\u001b[0m factor27\u001b[38;5;241m.\u001b[39mplot_comparison_with_benchmark(test1,\u001b[38;5;124m'\u001b[39m\u001b[38;5;124mF7_27\u001b[39m\u001b[38;5;124m'\u001b[39m)\n\u001b[1;32m      4\u001b[0m display(factor27\u001b[38;5;241m.\u001b[39mcompare_with_benchmark(test1,\u001b[38;5;124m'\u001b[39m\u001b[38;5;124mF7_27\u001b[39m\u001b[38;5;124m'\u001b[39m,\u001b[38;5;28;01mFalse\u001b[39;00m)\u001b[38;5;241m.\u001b[39mtail(\u001b[38;5;241m1\u001b[39m))\n\u001b[0;32m----> 5\u001b[0m display(factor27\u001b[38;5;241m.\u001b[39meval_combined(test1))\n",
      "File \u001b[0;32m~/Desktop/t1derivative/task1.py:227\u001b[0m, in \u001b[0;36mOneFactorTest.eval_combined\u001b[0;34m(self, test_info)\u001b[0m\n\u001b[1;32m    225\u001b[0m \u001b[38;5;28;01mdef\u001b[39;00m \u001b[38;5;21meval_combined\u001b[39m(\u001b[38;5;28mself\u001b[39m,test_info): \n\u001b[1;32m    226\u001b[0m     per_top, per_bottom \u001b[38;5;241m=\u001b[39m \u001b[38;5;28mself\u001b[39m\u001b[38;5;241m.\u001b[39mtrade(test_info)\n\u001b[0;32m--> 227\u001b[0m     top \u001b[38;5;241m=\u001b[39m \u001b[38;5;28mself\u001b[39m\u001b[38;5;241m.\u001b[39mevaluation_mectrics(\u001b[38;5;124m'\u001b[39m\u001b[38;5;124mtop\u001b[39m\u001b[38;5;124m'\u001b[39m,per_top,adj1 \u001b[38;5;241m=\u001b[39m \u001b[38;5;241m48\u001b[39m,var\u001b[38;5;241m=\u001b[39m\u001b[38;5;241m0.05\u001b[39m)\n\u001b[1;32m    228\u001b[0m     bottom \u001b[38;5;241m=\u001b[39m \u001b[38;5;28mself\u001b[39m\u001b[38;5;241m.\u001b[39mevaluation_mectrics(\u001b[38;5;124m'\u001b[39m\u001b[38;5;124mbottom\u001b[39m\u001b[38;5;124m'\u001b[39m,per_bottom,adj1 \u001b[38;5;241m=\u001b[39m \u001b[38;5;241m48\u001b[39m,var\u001b[38;5;241m=\u001b[39m\u001b[38;5;241m0.05\u001b[39m)\n\u001b[1;32m    229\u001b[0m     \u001b[38;5;28;01mreturn\u001b[39;00m pd\u001b[38;5;241m.\u001b[39mconcat([top,bottom], axis\u001b[38;5;241m=\u001b[39m\u001b[38;5;241m0\u001b[39m,keys\u001b[38;5;241m=\u001b[39m[\u001b[38;5;124m'\u001b[39m\u001b[38;5;124mtop\u001b[39m\u001b[38;5;124m'\u001b[39m, \u001b[38;5;124m'\u001b[39m\u001b[38;5;124mbottom\u001b[39m\u001b[38;5;124m'\u001b[39m])\n",
      "\u001b[0;31mTypeError\u001b[0m: OneFactorTest.evaluation_mectrics() got multiple values for argument 'adj1'"
     ]
    }
   ],
   "source": [
    "test1 = t1.TestInfo()\n",
    "factor27 = t1.OneFactorTest(F7_27)\n",
    "factor27.plot_comparison_with_benchmark(test1,'F7_27')\n",
    "display(factor27.compare_with_benchmark(test1,'F7_27',False).tail(1))\n",
    "display(factor27.eval_combined(test1))"
   ]
  },
  {
   "cell_type": "code",
   "execution_count": null,
   "metadata": {},
   "outputs": [],
   "source": [
    "factor26 = t1.OneFactorTest(F7_26)\n",
    "factor26.plot_comparison_with_benchmark(test1,'F7_26')\n",
    "display(factor26.compare_with_benchmark(test1,'F7_26',False).tail(1))\n",
    "display(factor26.eval_combined(test1))"
   ]
  }
 ],
 "metadata": {
  "kernelspec": {
   "display_name": "base",
   "language": "python",
   "name": "python3"
  },
  "language_info": {
   "codemirror_mode": {
    "name": "ipython",
    "version": 3
   },
   "file_extension": ".py",
   "mimetype": "text/x-python",
   "name": "python",
   "nbconvert_exporter": "python",
   "pygments_lexer": "ipython3",
   "version": "3.11.3"
  }
 },
 "nbformat": 4,
 "nbformat_minor": 2
}
