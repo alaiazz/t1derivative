{
 "cells": [
  {
   "cell_type": "code",
   "execution_count": 1,
   "metadata": {},
   "outputs": [],
   "source": [
    "import numpy as np \n",
    "import pandas as pd\n",
    "import matplotlib.pyplot as plt \n",
    "import plotly.graph_objects as go\n",
    "from plotly.subplots import make_subplots\n",
    "import plotly.express as px\n",
    "from sklearn.linear_model import LinearRegression\n",
    "import task1 as t1 \n",
    "import task2 as t2 \n",
    "from scipy.stats import spearmanr"
   ]
  },
  {
   "cell_type": "code",
   "execution_count": 104,
   "metadata": {},
   "outputs": [],
   "source": [
    "\n",
    "data_root_min = '/Users/huayuzhu/Desktop/exam/raw_data/minute'\n",
    "data_root = '/Users/huayuzhu/Desktop/exam/raw_data/daily'\n",
    "output_dir = '/Users/huayuzhu/Desktop/exam/'\n",
    "def get_min_data_from_csv(file_path):\n",
    "    \"\"\"\n",
    "    Reads a CSV file into a DataFrame, with the first column as row indices.\n",
    "\n",
    "    Parameters\n",
    "    ----------\n",
    "    file_path : str\n",
    "        The file path of the CSV file to be read.\n",
    "\n",
    "    Returns\n",
    "    -------\n",
    "    pd.DataFrame\n",
    "        Transposed DataFrame with datetime as index.\n",
    "    \"\"\"\n",
    "    try:\n",
    "        data = pd.read_csv(file_path, index_col=0) \n",
    "        data.index = pd.to_datetime(data.index)\n",
    "    except FileNotFoundError:\n",
    "        print(f\"File '{file_path}' not found.\")\n",
    "    except Exception as e:\n",
    "        print(f\"An error occurred: {e}\")\n",
    "    return data\n",
    "def get_data_from_csv(file_path):\n",
    "    \"\"\"\n",
    "    Reads a CSV file into a DataFrame, with the first column as row indices, \n",
    "    transposes the result, and converts the row indices to datetime.\n",
    "\n",
    "    Parameters\n",
    "    ----------\n",
    "    file_path : str\n",
    "        The file path of the CSV file to be read.\n",
    "\n",
    "    Returns\n",
    "    -------\n",
    "    pd.DataFrame\n",
    "        Transposed DataFrame with datetime as index.\n",
    "    \"\"\"\n",
    "    try:\n",
    "        data = pd.read_csv(file_path, index_col=0).T\n",
    "        data.index = pd.to_datetime(data.index)\n",
    "    except FileNotFoundError:\n",
    "        print(f\"File '{file_path}' not found.\")\n",
    "    except Exception as e:\n",
    "        print(f\"An error occurred: {e}\")\n",
    "    return data\n",
    "amount = get_min_data_from_csv(f'{data_root_min}/amount.csv')\n",
    "volume = get_min_data_from_csv(f'{data_root_min}/volume.csv')\n",
    "close  = get_min_data_from_csv(f'{data_root_min}/close.csv')\n",
    "open  = get_min_data_from_csv(f'{data_root_min}/open.csv')\n",
    "\n",
    "S_DQ_RET = get_data_from_csv(f'{data_root}/S_DQ_RET.csv')\n",
    "S_905_DQ_RET =  get_data_from_csv(f'{data_root}/905S_DQ_RET.csv')\n",
    "S_DQ_MV = get_data_from_csv(f'{data_root}/S_DQ_MV.csv')\n",
    "S_RESTRICT = get_data_from_csv(f'{data_root}/S_RESTRICT.csv')\n",
    "S_DQ_OPEN = get_data_from_csv(f'{data_root}/S_DQ_OPEN.csv')\n",
    "S_DQ_ADJ_FACTOR = get_data_from_csv(f'{data_root}/S_DQ_ADJFACTOR.csv')\n",
    "S_DQ_CLOSE = get_data_from_csv(f'{data_root}/S_DQ_CLOSE.csv')\n",
    "S_DQ_VOLUME = get_data_from_csv(f'{data_root}/S_DQ_VOLUME.csv')\n",
    "FLOAT_A_SHR_TODAY = get_data_from_csv(f'{data_root}/FLOAT_A_SHR_TODAY.csv')"
   ]
  },
  {
   "cell_type": "code",
   "execution_count": 8,
   "metadata": {},
   "outputs": [],
   "source": [
    "S_DQ_ADJ_FACTOR = S_DQ_ADJ_FACTOR/100\n",
    "S_ADJ_CLOSE = S_DQ_CLOSE * S_DQ_ADJ_FACTOR\n",
    "S_ADJ_OPEN = S_DQ_OPEN * S_DQ_ADJ_FACTOR"
   ]
  },
  {
   "cell_type": "code",
   "execution_count": null,
   "metadata": {},
   "outputs": [],
   "source": [
    "def calc_large_order_corr(volume, open, close, interval):\n",
    "\n",
    "    df_corr = pd.DataFrame(cloumns)"
   ]
  }
 ],
 "metadata": {
  "kernelspec": {
   "display_name": "base",
   "language": "python",
   "name": "python3"
  },
  "language_info": {
   "codemirror_mode": {
    "name": "ipython",
    "version": 3
   },
   "file_extension": ".py",
   "mimetype": "text/x-python",
   "name": "python",
   "nbconvert_exporter": "python",
   "pygments_lexer": "ipython3",
   "version": "3.11.3"
  }
 },
 "nbformat": 4,
 "nbformat_minor": 2
}
